{
 "cells": [
  {
   "cell_type": "code",
   "execution_count": 1,
   "metadata": {
    "collapsed": true
   },
   "outputs": [],
   "source": [
    "import pandas as pd\n",
    "pd.set_option('display.max_colwidth', -1)\n",
    "import urllib.request\n",
    "import json"
   ]
  },
  {
   "cell_type": "code",
   "execution_count": 2,
   "metadata": {
    "collapsed": true
   },
   "outputs": [],
   "source": [
    "def get_json(url):\n",
    "    with urllib.request.urlopen(url) as response:\n",
    "        return json.loads(response.read())"
   ]
  },
  {
   "cell_type": "code",
   "execution_count": 3,
   "metadata": {},
   "outputs": [],
   "source": []
  },
  {
   "cell_type": "code",
   "execution_count": null,
   "metadata": {},
   "outputs": [],
   "source": [
    "#Fetch cholesterol + gene\n",
    "genelist = pd.read_csv(\"DistFeatures.csv\")[[\"GeneName\", \"progression_arch Average\", \"regression_arch Average\", \"progression_arch Log2 Fold Change\", \"progression_arch P-Value\"]]\n",
    "\n",
    "count_apiurl = 'http://eutils.ncbi.nlm.nih.gov/entrez/eutils/esearch.fcgi?db=pubmed&retmode=json&retmax=0&sort=relevance&term='\n",
    "\n",
    "querylist = [\n",
    "    {\"title\": \"Wikipedia\", \"url\": \"https://en.wikipedia.org/w/index.php?search=\", \"pubmed\": 0},\n",
    "    {\"title\": \"Pubmed: Cholesterol\", \"url\": \"https://www.ncbi.nlm.nih.gov/pubmed/?term=\", \"term\": \"cholesterol+\", \"pubmed\": 1},\n",
    "    {\"title\": \"Pubmed: Cholesterol+Macrophages\", \"url\": \"https://www.ncbi.nlm.nih.gov/pubmed/?term=\", \"term\": \"cholesterol+macrophage+\", \"pubmed\": 1},\n",
    "]\n",
    "genefetch = pd.DataFrame(genelist)\n",
    "for entry in querylist:\n",
    "    genefetch[entry[\"title\"]] = genefetch[\"GeneName\"].apply(lambda x : '<a href=\"{}\" target=\"_blank\">{}</a>'.format(\n",
    "        entry[\"url\"]+entry.get(\"term\", \"\")+x,\n",
    "        entry[\"title\"]+\"+\"+x+(\"<br>(n=\"+get_json(count_apiurl+entry.get(\"term\", \"\")+\"+\"+x)[\"esearchresult\"][\"count\"]+\")\" if entry[\"pubmed\"] else \"\") \n",
    "    ))\n",
    "genefetch.to_html(\"GeneReport.html\", escape=0)\n",
    "genefetch.style.format(lambda x: x)"
   ]
  },
  {
   "cell_type": "code",
   "execution_count": null,
   "metadata": {
    "collapsed": true
   },
   "outputs": [],
   "source": []
  }
 ],
 "metadata": {
  "kernelspec": {
   "display_name": "Python 3",
   "language": "python",
   "name": "python3"
  },
  "language_info": {
   "codemirror_mode": {
    "name": "ipython",
    "version": 3
   },
   "file_extension": ".py",
   "mimetype": "text/x-python",
   "name": "python",
   "nbconvert_exporter": "python",
   "pygments_lexer": "ipython3",
   "version": "3.6.1"
  }
 },
 "nbformat": 4,
 "nbformat_minor": 2
}
